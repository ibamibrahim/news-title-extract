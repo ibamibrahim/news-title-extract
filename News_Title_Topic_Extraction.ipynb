{
  "nbformat": 4,
  "nbformat_minor": 0,
  "metadata": {
    "colab": {
      "name": "News Title Topic Extraction",
      "provenance": [],
      "collapsed_sections": [
        "A5v56Vkb5gB2"
      ],
      "toc_visible": true
    },
    "kernelspec": {
      "name": "python3",
      "display_name": "Python 3"
    }
  },
  "cells": [
    {
      "cell_type": "code",
      "metadata": {
        "id": "S_tqjLTVAVep",
        "colab_type": "code",
        "outputId": "b9d2e530-991f-4b8c-c322-798710a1cf30",
        "colab": {
          "base_uri": "https://localhost:8080/",
          "height": 197
        }
      },
      "source": [
        "try:\n",
        "    import Sastrawi\n",
        "except ModuleNotFoundError:\n",
        "    ! pip install PySastrawi\n",
        "finally:\n",
        "    from Sastrawi.StopWordRemover.StopWordRemoverFactory import StopWordRemoverFactory\n",
        "    from Sastrawi.Stemmer.StemmerFactory import StemmerFactory\n",
        "\n",
        "import os\n",
        "import pandas as pd\n",
        "\n",
        "if not os.path.exists('detik_news_title.csv'):\n",
        "    ! wget https://ibam.imfast.io/detik_news_title.csv\n",
        "\n",
        "\n",
        "df = pd.read_csv('detik_news_title.csv').drop(columns=['Unnamed: 0'])\n",
        "df.head()"
      ],
      "execution_count": 0,
      "outputs": [
        {
          "output_type": "execute_result",
          "data": {
            "text/html": [
              "<div>\n",
              "<style scoped>\n",
              "    .dataframe tbody tr th:only-of-type {\n",
              "        vertical-align: middle;\n",
              "    }\n",
              "\n",
              "    .dataframe tbody tr th {\n",
              "        vertical-align: top;\n",
              "    }\n",
              "\n",
              "    .dataframe thead th {\n",
              "        text-align: right;\n",
              "    }\n",
              "</style>\n",
              "<table border=\"1\" class=\"dataframe\">\n",
              "  <thead>\n",
              "    <tr style=\"text-align: right;\">\n",
              "      <th></th>\n",
              "      <th>date</th>\n",
              "      <th>url</th>\n",
              "      <th>title</th>\n",
              "      <th>category</th>\n",
              "    </tr>\n",
              "  </thead>\n",
              "  <tbody>\n",
              "    <tr>\n",
              "      <th>0</th>\n",
              "      <td>02/26/2020</td>\n",
              "      <td>https://finance.detik.com/berita-ekonomi-bisni...</td>\n",
              "      <td>Kemnaker Awasi TKA di Meikarta</td>\n",
              "      <td>finance</td>\n",
              "    </tr>\n",
              "    <tr>\n",
              "      <th>1</th>\n",
              "      <td>02/26/2020</td>\n",
              "      <td>https://finance.detik.com/berita-ekonomi-bisni...</td>\n",
              "      <td>BNI Digitalkan BNI Java Jazz 2020</td>\n",
              "      <td>finance</td>\n",
              "    </tr>\n",
              "    <tr>\n",
              "      <th>2</th>\n",
              "      <td>02/26/2020</td>\n",
              "      <td>https://finance.detik.com/berita-ekonomi-bisni...</td>\n",
              "      <td>Terbang ke Australia, Edhy Prabowo Mau Genjot ...</td>\n",
              "      <td>finance</td>\n",
              "    </tr>\n",
              "    <tr>\n",
              "      <th>3</th>\n",
              "      <td>02/26/2020</td>\n",
              "      <td>https://finance.detik.com/moneter/d-4916133/oj...</td>\n",
              "      <td>OJK Siapkan Stimulus Ekonomi Antisipasi Dampak...</td>\n",
              "      <td>finance</td>\n",
              "    </tr>\n",
              "    <tr>\n",
              "      <th>4</th>\n",
              "      <td>02/26/2020</td>\n",
              "      <td>https://finance.detik.com/berita-ekonomi-bisni...</td>\n",
              "      <td>Saran Buat Anies-RK yang Mangkir Rapat Banjir ...</td>\n",
              "      <td>finance</td>\n",
              "    </tr>\n",
              "  </tbody>\n",
              "</table>\n",
              "</div>"
            ],
            "text/plain": [
              "         date  ... category\n",
              "0  02/26/2020  ...  finance\n",
              "1  02/26/2020  ...  finance\n",
              "2  02/26/2020  ...  finance\n",
              "3  02/26/2020  ...  finance\n",
              "4  02/26/2020  ...  finance\n",
              "\n",
              "[5 rows x 4 columns]"
            ]
          },
          "metadata": {
            "tags": []
          },
          "execution_count": 68
        }
      ]
    },
    {
      "cell_type": "markdown",
      "metadata": {
        "id": "tEO-V04Q8NX3",
        "colab_type": "text"
      },
      "source": [
        "## Word Count per Title"
      ]
    },
    {
      "cell_type": "code",
      "metadata": {
        "id": "zVkCmdVN8Jsb",
        "colab_type": "code",
        "outputId": "b8f0523f-c080-471d-9f03-05fbdcf37f85",
        "colab": {
          "base_uri": "https://localhost:8080/",
          "height": 441
        }
      },
      "source": [
        "df['word_count'] = df['title'].apply(lambda x: len(str(x).split(' ')))\n",
        "df[['title', 'word_count']].head()\n",
        "df.hist(bins=20)\n",
        "df.word_count.describe()"
      ],
      "execution_count": 0,
      "outputs": [
        {
          "output_type": "execute_result",
          "data": {
            "text/plain": [
              "count    91017.000000\n",
              "mean         9.273674\n",
              "std          1.891406\n",
              "min          1.000000\n",
              "25%          8.000000\n",
              "50%          9.000000\n",
              "75%         11.000000\n",
              "max         20.000000\n",
              "Name: word_count, dtype: float64"
            ]
          },
          "metadata": {
            "tags": []
          },
          "execution_count": 69
        },
        {
          "output_type": "display_data",
          "data": {
            "image/png": "[encoded data removed]",
            "text/plain": [
              "<Figure size 432x288 with 1 Axes>"
            ]
          },
          "metadata": {
            "tags": [],
            "needs_background": "light"
          }
        }
      ]
    },
    {
      "cell_type": "markdown",
      "metadata": {
        "id": "2FXiELbQ9N93",
        "colab_type": "text"
      },
      "source": [
        "## Most Common and Uncommon Words per Category"
      ]
    },
    {
      "cell_type": "code",
      "metadata": {
        "id": "wyKD_Go9-K64",
        "colab_type": "code",
        "outputId": "28a73a57-19e4-4fbd-b97e-0f5760b5b0dd",
        "colab": {
          "base_uri": "https://localhost:8080/",
          "height": 356
        }
      },
      "source": [
        "def get_top_words(df, n=10, column='title'):\n",
        "    top_words = pd.Series(' '.join(df[column]).split()).value_counts()[:n]\n",
        "    print(f'Top words {df.category.unique()[0]} category: ', end='')\n",
        "    for index, value in top_words.items():\n",
        "        print(f'{index} ({value}), ', end='')\n",
        "    print('\\n')\n",
        "\n",
        "for cat in df.category.unique():\n",
        "    get_top_words(df[df.category == cat])"
      ],
      "execution_count": 0,
      "outputs": [
        {
          "output_type": "stream",
          "text": [
            "Top words finance category: di (2555), Corona (1645), Ini (1465), Rp (1387), ke (1116), RI (951), yang (805), dan (753), Bisa (703), Corona, (699), \n",
            "\n",
            "Top words food category: Ini (1690), di (1253), yang (1091), 5 (847), dan (814), Makanan (673), Makan (521), Foto (458), Galeri (438), hingga (415), \n",
            "\n",
            "Top words health category: Corona (2064), di (1275), Virus (1026), Ini (1024), yang (713), Pasien (472), Bisa (431), Corona, (385), dan (372), untuk (369), \n",
            "\n",
            "Top words hot category: di (3100), dan (1649), yang (1365), Ini (1197), Tak (1076), Jadi (1001), Corona (997), dengan (913), dari (799), ke (672), \n",
            "\n",
            "Top words inet category: di (1076), Corona (665), Ini (543), dan (518), yang (494), Virus (336), Ponsel (298), dari (267), untuk (258), Bikin (253), \n",
            "\n",
            "Top words news category: di (13632), Corona (5488), yang (2495), ke (2342), Tak (2235), Ini (2101), Kasus (1938), Warga (1881), Polisi (1854), dan (1782), \n",
            "\n",
            "Top words oto category: Mobil (1125), di (957), Ini (669), yang (483), Motor (414), dan (318), Corona (316), Rp (267), Honda (239), Corona, (226), \n",
            "\n",
            "Top words sport category: di (508), 2020 (287), Indonesia (213), MotoGP (194), ke (179), dan (162), Ini (142), Corona (121), Virus (118), Tak (118), \n",
            "\n",
            "Top words travel category: di (2499), yang (1001), Ini (907), Corona (687), Wisata (509), ke (434), dan (418), dari (405), Corona, (313), Turis (274), \n",
            "\n"
          ],
          "name": "stdout"
        }
      ]
    },
    {
      "cell_type": "markdown",
      "metadata": {
        "id": "g2CiqEkSADVX",
        "colab_type": "text"
      },
      "source": [
        "## Text Preprocessing"
      ]
    },
    {
      "cell_type": "code",
      "metadata": {
        "id": "w13ZR7MGAHbI",
        "colab_type": "code",
        "outputId": "92908859-24a1-4624-d180-df03f8521716",
        "colab": {
          "base_uri": "https://localhost:8080/",
          "height": 1000
        }
      },
      "source": [
        "import re\n",
        "def preprocess(text):\n",
        "    # remove punctuation\n",
        "    text = re.sub('[^a-zA-Z]', ' ', text)\n",
        "    # convert to lower case\n",
        "    text = text.lower()\n",
        "    # remove special char and digit\n",
        "    text=re.sub(\"(\\\\d|\\\\W)+\",\" \",text)\n",
        "    # remove stop words\n",
        "    stopword = StopWordRemoverFactory().create_stop_word_remover() \n",
        "    text = stopword.remove(text)\n",
        "    # stemming\n",
        "    stemmer = StemmerFactory().create_stemmer()\n",
        "    text = stemmer.stem(text)\n",
        "    return text\n",
        "\n",
        "import time\n",
        "\n",
        "start_time = time.time()\n",
        "for i in range(0, len(df)):\n",
        "    if (i%500) == 0:\n",
        "        mid_time = time.time()\n",
        "        print(f'Processing #{i} data, {(mid_time - start_time):.2f} seconds elapsed.')\n",
        "\n",
        "    df.at[i, 'corpus'] = preprocess(df['title'][i])\n",
        "\n",
        "end_time = time.time()\n",
        "print(f'End processing {len(df)} data for {(end_time-start_time):.2f} seconds.')\n",
        "df.head(15)"
      ],
      "execution_count": 0,
      "outputs": [
        {
          "output_type": "stream",
          "text": [
            "Processing #0 data, 0.00 seconds elapsed.\n",
            "Processing #500 data, 3.46 seconds elapsed.\n",
            "Processing #1000 data, 6.91 seconds elapsed.\n",
            "Processing #1500 data, 10.27 seconds elapsed.\n",
            "Processing #2000 data, 13.88 seconds elapsed.\n",
            "Processing #2500 data, 17.11 seconds elapsed.\n",
            "Processing #3000 data, 20.61 seconds elapsed.\n",
            "Processing #3500 data, 24.00 seconds elapsed.\n",
            "Processing #4000 data, 27.43 seconds elapsed.\n",
            "Processing #4500 data, 30.83 seconds elapsed.\n",
            "Processing #5000 data, 34.20 seconds elapsed.\n",
            "Processing #5500 data, 37.62 seconds elapsed.\n",
            "Processing #6000 data, 40.89 seconds elapsed.\n",
            "Processing #6500 data, 44.27 seconds elapsed.\n",
            "Processing #7000 data, 47.64 seconds elapsed.\n",
            "Processing #7500 data, 50.99 seconds elapsed.\n",
            "Processing #8000 data, 54.61 seconds elapsed.\n",
            "Processing #8500 data, 58.21 seconds elapsed.\n",
            "Processing #9000 data, 61.71 seconds elapsed.\n",
            "Processing #9500 data, 65.18 seconds elapsed.\n",
            "Processing #10000 data, 68.73 seconds elapsed.\n",
            "Processing #10500 data, 72.19 seconds elapsed.\n",
            "Processing #11000 data, 75.67 seconds elapsed.\n",
            "Processing #11500 data, 79.18 seconds elapsed.\n",
            "Processing #12000 data, 82.65 seconds elapsed.\n",
            "Processing #12500 data, 86.12 seconds elapsed.\n",
            "Processing #13000 data, 89.73 seconds elapsed.\n",
            "Processing #13500 data, 93.15 seconds elapsed.\n",
            "Processing #14000 data, 96.63 seconds elapsed.\n",
            "Processing #14500 data, 100.05 seconds elapsed.\n",
            "Processing #15000 data, 103.59 seconds elapsed.\n",
            "Processing #15500 data, 107.05 seconds elapsed.\n",
            "Processing #16000 data, 110.79 seconds elapsed.\n",
            "Processing #16500 data, 114.34 seconds elapsed.\n",
            "Processing #17000 data, 117.78 seconds elapsed.\n",
            "Processing #17500 data, 121.30 seconds elapsed.\n",
            "Processing #18000 data, 124.71 seconds elapsed.\n",
            "Processing #18500 data, 128.14 seconds elapsed.\n",
            "Processing #19000 data, 131.57 seconds elapsed.\n",
            "Processing #19500 data, 135.04 seconds elapsed.\n",
            "Processing #20000 data, 138.53 seconds elapsed.\n",
            "Processing #20500 data, 142.08 seconds elapsed.\n",
            "Processing #21000 data, 145.57 seconds elapsed.\n",
            "Processing #21500 data, 149.06 seconds elapsed.\n",
            "Processing #22000 data, 152.60 seconds elapsed.\n",
            "Processing #22500 data, 156.12 seconds elapsed.\n",
            "Processing #23000 data, 159.87 seconds elapsed.\n",
            "Processing #23500 data, 163.73 seconds elapsed.\n",
            "Processing #24000 data, 167.71 seconds elapsed.\n",
            "Processing #24500 data, 171.69 seconds elapsed.\n",
            "Processing #25000 data, 175.40 seconds elapsed.\n",
            "Processing #25500 data, 179.04 seconds elapsed.\n",
            "Processing #26000 data, 182.95 seconds elapsed.\n",
            "Processing #26500 data, 186.94 seconds elapsed.\n",
            "Processing #27000 data, 190.91 seconds elapsed.\n",
            "Processing #27500 data, 194.77 seconds elapsed.\n",
            "Processing #28000 data, 198.50 seconds elapsed.\n",
            "Processing #28500 data, 202.17 seconds elapsed.\n",
            "Processing #29000 data, 205.86 seconds elapsed.\n",
            "Processing #29500 data, 209.57 seconds elapsed.\n",
            "Processing #30000 data, 213.32 seconds elapsed.\n",
            "Processing #30500 data, 217.03 seconds elapsed.\n",
            "Processing #31000 data, 220.78 seconds elapsed.\n",
            "Processing #31500 data, 224.51 seconds elapsed.\n",
            "Processing #32000 data, 228.28 seconds elapsed.\n",
            "Processing #32500 data, 231.94 seconds elapsed.\n",
            "Processing #33000 data, 235.79 seconds elapsed.\n",
            "Processing #33500 data, 239.50 seconds elapsed.\n",
            "Processing #34000 data, 243.31 seconds elapsed.\n",
            "Processing #34500 data, 247.01 seconds elapsed.\n",
            "Processing #35000 data, 250.71 seconds elapsed.\n",
            "Processing #35500 data, 254.39 seconds elapsed.\n",
            "Processing #36000 data, 258.14 seconds elapsed.\n",
            "Processing #36500 data, 261.87 seconds elapsed.\n",
            "Processing #37000 data, 265.64 seconds elapsed.\n",
            "Processing #37500 data, 269.33 seconds elapsed.\n",
            "Processing #38000 data, 273.04 seconds elapsed.\n",
            "Processing #38500 data, 276.76 seconds elapsed.\n",
            "Processing #39000 data, 280.55 seconds elapsed.\n",
            "Processing #39500 data, 284.60 seconds elapsed.\n",
            "Processing #40000 data, 288.29 seconds elapsed.\n",
            "Processing #40500 data, 291.87 seconds elapsed.\n",
            "Processing #41000 data, 295.49 seconds elapsed.\n",
            "Processing #41500 data, 299.23 seconds elapsed.\n",
            "Processing #42000 data, 302.93 seconds elapsed.\n",
            "Processing #42500 data, 306.83 seconds elapsed.\n",
            "Processing #43000 data, 310.64 seconds elapsed.\n",
            "Processing #43500 data, 314.42 seconds elapsed.\n",
            "Processing #44000 data, 318.08 seconds elapsed.\n",
            "Processing #44500 data, 321.72 seconds elapsed.\n",
            "Processing #45000 data, 325.30 seconds elapsed.\n",
            "Processing #45500 data, 328.95 seconds elapsed.\n",
            "Processing #46000 data, 332.65 seconds elapsed.\n",
            "Processing #46500 data, 336.37 seconds elapsed.\n",
            "Processing #47000 data, 340.52 seconds elapsed.\n",
            "Processing #47500 data, 344.38 seconds elapsed.\n",
            "Processing #48000 data, 348.07 seconds elapsed.\n",
            "Processing #48500 data, 351.77 seconds elapsed.\n",
            "Processing #49000 data, 355.52 seconds elapsed.\n",
            "Processing #49500 data, 359.35 seconds elapsed.\n",
            "Processing #50000 data, 363.13 seconds elapsed.\n",
            "Processing #50500 data, 367.13 seconds elapsed.\n",
            "Processing #51000 data, 371.25 seconds elapsed.\n",
            "Processing #51500 data, 375.24 seconds elapsed.\n",
            "Processing #52000 data, 379.05 seconds elapsed.\n",
            "Processing #52500 data, 382.79 seconds elapsed.\n",
            "Processing #53000 data, 386.66 seconds elapsed.\n",
            "Processing #53500 data, 390.29 seconds elapsed.\n",
            "Processing #54000 data, 393.89 seconds elapsed.\n",
            "Processing #54500 data, 397.69 seconds elapsed.\n",
            "Processing #55000 data, 401.38 seconds elapsed.\n",
            "Processing #55500 data, 405.21 seconds elapsed.\n",
            "Processing #56000 data, 409.06 seconds elapsed.\n",
            "Processing #56500 data, 412.85 seconds elapsed.\n",
            "Processing #57000 data, 416.73 seconds elapsed.\n",
            "Processing #57500 data, 420.54 seconds elapsed.\n",
            "Processing #58000 data, 424.36 seconds elapsed.\n",
            "Processing #58500 data, 428.12 seconds elapsed.\n",
            "Processing #59000 data, 431.87 seconds elapsed.\n",
            "Processing #59500 data, 435.65 seconds elapsed.\n",
            "Processing #60000 data, 439.61 seconds elapsed.\n",
            "Processing #60500 data, 443.69 seconds elapsed.\n",
            "Processing #61000 data, 447.36 seconds elapsed.\n",
            "Processing #61500 data, 451.24 seconds elapsed.\n",
            "Processing #62000 data, 454.89 seconds elapsed.\n",
            "Processing #62500 data, 458.61 seconds elapsed.\n",
            "Processing #63000 data, 462.16 seconds elapsed.\n",
            "Processing #63500 data, 465.77 seconds elapsed.\n",
            "Processing #64000 data, 469.25 seconds elapsed.\n",
            "Processing #64500 data, 472.68 seconds elapsed.\n",
            "Processing #65000 data, 476.22 seconds elapsed.\n",
            "Processing #65500 data, 479.69 seconds elapsed.\n",
            "Processing #66000 data, 483.14 seconds elapsed.\n",
            "Processing #66500 data, 486.66 seconds elapsed.\n",
            "Processing #67000 data, 490.19 seconds elapsed.\n",
            "Processing #67500 data, 493.75 seconds elapsed.\n",
            "Processing #68000 data, 497.63 seconds elapsed.\n",
            "Processing #68500 data, 501.47 seconds elapsed.\n",
            "Processing #69000 data, 505.40 seconds elapsed.\n",
            "Processing #69500 data, 509.14 seconds elapsed.\n",
            "Processing #70000 data, 512.99 seconds elapsed.\n",
            "Processing #70500 data, 517.06 seconds elapsed.\n",
            "Processing #71000 data, 520.85 seconds elapsed.\n",
            "Processing #71500 data, 524.75 seconds elapsed.\n",
            "Processing #72000 data, 528.40 seconds elapsed.\n",
            "Processing #72500 data, 532.18 seconds elapsed.\n",
            "Processing #73000 data, 536.01 seconds elapsed.\n",
            "Processing #73500 data, 539.79 seconds elapsed.\n",
            "Processing #74000 data, 543.53 seconds elapsed.\n",
            "Processing #74500 data, 547.23 seconds elapsed.\n",
            "Processing #75000 data, 550.94 seconds elapsed.\n",
            "Processing #75500 data, 554.64 seconds elapsed.\n",
            "Processing #76000 data, 558.62 seconds elapsed.\n",
            "Processing #76500 data, 562.42 seconds elapsed.\n",
            "Processing #77000 data, 566.16 seconds elapsed.\n",
            "Processing #77500 data, 570.03 seconds elapsed.\n",
            "Processing #78000 data, 573.63 seconds elapsed.\n",
            "Processing #78500 data, 577.27 seconds elapsed.\n",
            "Processing #79000 data, 580.93 seconds elapsed.\n",
            "Processing #79500 data, 584.68 seconds elapsed.\n",
            "Processing #80000 data, 588.26 seconds elapsed.\n",
            "Processing #80500 data, 591.82 seconds elapsed.\n",
            "Processing #81000 data, 595.43 seconds elapsed.\n",
            "Processing #81500 data, 599.06 seconds elapsed.\n",
            "Processing #82000 data, 602.70 seconds elapsed.\n",
            "Processing #82500 data, 606.41 seconds elapsed.\n",
            "Processing #83000 data, 610.06 seconds elapsed.\n",
            "Processing #83500 data, 614.10 seconds elapsed.\n",
            "Processing #84000 data, 618.28 seconds elapsed.\n",
            "Processing #84500 data, 622.25 seconds elapsed.\n",
            "Processing #85000 data, 626.04 seconds elapsed.\n",
            "Processing #85500 data, 629.53 seconds elapsed.\n",
            "Processing #86000 data, 633.02 seconds elapsed.\n",
            "Processing #86500 data, 636.54 seconds elapsed.\n",
            "Processing #87000 data, 640.04 seconds elapsed.\n",
            "Processing #87500 data, 643.66 seconds elapsed.\n",
            "Processing #88000 data, 647.44 seconds elapsed.\n",
            "Processing #88500 data, 650.96 seconds elapsed.\n",
            "Processing #89000 data, 654.52 seconds elapsed.\n",
            "Processing #89500 data, 658.14 seconds elapsed.\n",
            "Processing #90000 data, 661.92 seconds elapsed.\n",
            "Processing #90500 data, 665.55 seconds elapsed.\n",
            "Processing #91000 data, 669.53 seconds elapsed.\n",
            "End processing 91017 data for 669.66 seconds.\n"
          ],
          "name": "stdout"
        },
        {
          "output_type": "execute_result",
          "data": {
            "text/html": [
              "<div>\n",
              "<style scoped>\n",
              "    .dataframe tbody tr th:only-of-type {\n",
              "        vertical-align: middle;\n",
              "    }\n",
              "\n",
              "    .dataframe tbody tr th {\n",
              "        vertical-align: top;\n",
              "    }\n",
              "\n",
              "    .dataframe thead th {\n",
              "        text-align: right;\n",
              "    }\n",
              "</style>\n",
              "<table border=\"1\" class=\"dataframe\">\n",
              "  <thead>\n",
              "    <tr style=\"text-align: right;\">\n",
              "      <th></th>\n",
              "      <th>date</th>\n",
              "      <th>url</th>\n",
              "      <th>title</th>\n",
              "      <th>category</th>\n",
              "      <th>word_count</th>\n",
              "      <th>corpus</th>\n",
              "    </tr>\n",
              "  </thead>\n",
              "  <tbody>\n",
              "    <tr>\n",
              "      <th>0</th>\n",
              "      <td>02/26/2020</td>\n",
              "      <td>https://finance.detik.com/berita-ekonomi-bisni...</td>\n",
              "      <td>Kemnaker Awasi TKA di Meikarta</td>\n",
              "      <td>finance</td>\n",
              "      <td>5</td>\n",
              "      <td>kemnaker awas tka meikarta</td>\n",
              "    </tr>\n",
              "    <tr>\n",
              "      <th>1</th>\n",
              "      <td>02/26/2020</td>\n",
              "      <td>https://finance.detik.com/berita-ekonomi-bisni...</td>\n",
              "      <td>BNI Digitalkan BNI Java Jazz 2020</td>\n",
              "      <td>finance</td>\n",
              "      <td>6</td>\n",
              "      <td>bni digital bni java jazz</td>\n",
              "    </tr>\n",
              "    <tr>\n",
              "      <th>2</th>\n",
              "      <td>02/26/2020</td>\n",
              "      <td>https://finance.detik.com/berita-ekonomi-bisni...</td>\n",
              "      <td>Terbang ke Australia, Edhy Prabowo Mau Genjot ...</td>\n",
              "      <td>finance</td>\n",
              "      <td>10</td>\n",
              "      <td>terbang australia edhy prabowo genjot budi day...</td>\n",
              "    </tr>\n",
              "    <tr>\n",
              "      <th>3</th>\n",
              "      <td>02/26/2020</td>\n",
              "      <td>https://finance.detik.com/moneter/d-4916133/oj...</td>\n",
              "      <td>OJK Siapkan Stimulus Ekonomi Antisipasi Dampak...</td>\n",
              "      <td>finance</td>\n",
              "      <td>7</td>\n",
              "      <td>ojk siap stimulus ekonomi antisipasi dampak co...</td>\n",
              "    </tr>\n",
              "    <tr>\n",
              "      <th>4</th>\n",
              "      <td>02/26/2020</td>\n",
              "      <td>https://finance.detik.com/berita-ekonomi-bisni...</td>\n",
              "      <td>Saran Buat Anies-RK yang Mangkir Rapat Banjir ...</td>\n",
              "      <td>finance</td>\n",
              "      <td>9</td>\n",
              "      <td>saran anies rk mangkir rapat banjir dpr</td>\n",
              "    </tr>\n",
              "    <tr>\n",
              "      <th>5</th>\n",
              "      <td>02/26/2020</td>\n",
              "      <td>https://finance.detik.com/berita-ekonomi-bisni...</td>\n",
              "      <td>RI Bakal Punya Destinasi Wisata Sejarah Islam ...</td>\n",
              "      <td>finance</td>\n",
              "      <td>9</td>\n",
              "      <td>ri destinasi wisata sejarah islam ancol</td>\n",
              "    </tr>\n",
              "    <tr>\n",
              "      <th>6</th>\n",
              "      <td>02/26/2020</td>\n",
              "      <td>https://finance.detik.com/perencanaan-keuangan...</td>\n",
              "      <td>Cara Biar Nggak Tertipu Travel Umrah Abal-abal...</td>\n",
              "      <td>finance</td>\n",
              "      <td>10</td>\n",
              "      <td>biar nggak tipu travel umrah abal abal first t...</td>\n",
              "    </tr>\n",
              "    <tr>\n",
              "      <th>7</th>\n",
              "      <td>02/26/2020</td>\n",
              "      <td>https://finance.detik.com/berita-ekonomi-bisni...</td>\n",
              "      <td>DPR Kritik Cara Anies Atasi Banjir, Pesan Kera...</td>\n",
              "      <td>finance</td>\n",
              "      <td>12</td>\n",
              "      <td>dpr kritik anies atas banjir pesan keras erick...</td>\n",
              "    </tr>\n",
              "    <tr>\n",
              "      <th>8</th>\n",
              "      <td>02/26/2020</td>\n",
              "      <td>https://finance.detik.com/moneter/d-4916086/ja...</td>\n",
              "      <td>Jadi Korban Gagal Bayar Asuransi? Bisa Mengadu...</td>\n",
              "      <td>finance</td>\n",
              "      <td>9</td>\n",
              "      <td>korban gagal bayar asuransi adu</td>\n",
              "    </tr>\n",
              "    <tr>\n",
              "      <th>9</th>\n",
              "      <td>02/26/2020</td>\n",
              "      <td>https://finance.detik.com/berita-ekonomi-bisni...</td>\n",
              "      <td>Erick Thohir: BUMN Bukan Badan Usaha Milik Nen...</td>\n",
              "      <td>finance</td>\n",
              "      <td>9</td>\n",
              "      <td>erick thohir bumn badan usaha milik nenek lu</td>\n",
              "    </tr>\n",
              "    <tr>\n",
              "      <th>10</th>\n",
              "      <td>02/26/2020</td>\n",
              "      <td>https://finance.detik.com/berita-ekonomi-bisni...</td>\n",
              "      <td>Terbitkan Resi Pertama, SRG Konawe Bantu Ketah...</td>\n",
              "      <td>finance</td>\n",
              "      <td>9</td>\n",
              "      <td>terbit resi srg konawe bantu tahan pangan nasi...</td>\n",
              "    </tr>\n",
              "    <tr>\n",
              "      <th>11</th>\n",
              "      <td>02/26/2020</td>\n",
              "      <td>https://finance.detik.com/properti/d-4915865/j...</td>\n",
              "      <td>Jokowi Janji Buka 3 Juta Lapangan Kerja di Ibu...</td>\n",
              "      <td>finance</td>\n",
              "      <td>12</td>\n",
              "      <td>jokowi janji buka juta lapang kota negara</td>\n",
              "    </tr>\n",
              "    <tr>\n",
              "      <th>12</th>\n",
              "      <td>02/26/2020</td>\n",
              "      <td>https://finance.detik.com/detiktv/d-4916004/vi...</td>\n",
              "      <td>Video Erick Thohir: Banyak Pihak Swasta Akali ...</td>\n",
              "      <td>finance</td>\n",
              "      <td>8</td>\n",
              "      <td>video erick thohir swasta akal bumn</td>\n",
              "    </tr>\n",
              "    <tr>\n",
              "      <th>13</th>\n",
              "      <td>02/26/2020</td>\n",
              "      <td>https://finance.detik.com/berita-ekonomi-bisni...</td>\n",
              "      <td>Wishnutama Mau Sewa Influencer Asing, Pakai BTS?</td>\n",
              "      <td>finance</td>\n",
              "      <td>7</td>\n",
              "      <td>wishnutama sewa influencer asing pakai bts</td>\n",
              "    </tr>\n",
              "    <tr>\n",
              "      <th>14</th>\n",
              "      <td>02/26/2020</td>\n",
              "      <td>https://finance.detik.com/berita-ekonomi-bisni...</td>\n",
              "      <td>Dikritik Keras DPR soal Banjir, Anies Buka Suara</td>\n",
              "      <td>finance</td>\n",
              "      <td>8</td>\n",
              "      <td>kritik keras dpr banjir anies buka suara</td>\n",
              "    </tr>\n",
              "  </tbody>\n",
              "</table>\n",
              "</div>"
            ],
            "text/plain": [
              "          date  ...                                             corpus\n",
              "0   02/26/2020  ...                         kemnaker awas tka meikarta\n",
              "1   02/26/2020  ...                          bni digital bni java jazz\n",
              "2   02/26/2020  ...  terbang australia edhy prabowo genjot budi day...\n",
              "3   02/26/2020  ...  ojk siap stimulus ekonomi antisipasi dampak co...\n",
              "4   02/26/2020  ...            saran anies rk mangkir rapat banjir dpr\n",
              "5   02/26/2020  ...            ri destinasi wisata sejarah islam ancol\n",
              "6   02/26/2020  ...  biar nggak tipu travel umrah abal abal first t...\n",
              "7   02/26/2020  ...  dpr kritik anies atas banjir pesan keras erick...\n",
              "8   02/26/2020  ...                    korban gagal bayar asuransi adu\n",
              "9   02/26/2020  ...       erick thohir bumn badan usaha milik nenek lu\n",
              "10  02/26/2020  ...  terbit resi srg konawe bantu tahan pangan nasi...\n",
              "11  02/26/2020  ...          jokowi janji buka juta lapang kota negara\n",
              "12  02/26/2020  ...                video erick thohir swasta akal bumn\n",
              "13  02/26/2020  ...         wishnutama sewa influencer asing pakai bts\n",
              "14  02/26/2020  ...           kritik keras dpr banjir anies buka suara\n",
              "\n",
              "[15 rows x 6 columns]"
            ]
          },
          "metadata": {
            "tags": []
          },
          "execution_count": 91
        }
      ]
    },
    {
      "cell_type": "markdown",
      "metadata": {
        "id": "0ihugXI95SHv",
        "colab_type": "text"
      },
      "source": [
        "## Extracting the Topic using TF-IDF"
      ]
    },
    {
      "cell_type": "markdown",
      "metadata": {
        "id": "Qt0Q4S6q5ZzE",
        "colab_type": "text"
      },
      "source": [
        "### Create a word count vector using CountVectorizer"
      ]
    },
    {
      "cell_type": "code",
      "metadata": {
        "id": "Ob8T6RU05fr6",
        "colab_type": "code",
        "colab": {}
      },
      "source": [
        "from sklearn.feature_extraction.text import CountVectorizer\n",
        "cv=CountVectorizer(max_df=0.8, max_features=10000, ngram_range=(1,2))\n",
        "X=cv.fit_transform(df['corpus'])"
      ],
      "execution_count": 0,
      "outputs": []
    },
    {
      "cell_type": "markdown",
      "metadata": {
        "id": "A5v56Vkb5gB2",
        "colab_type": "text"
      },
      "source": [
        "#### Visualize Top Word (Single n-gram and bigram)"
      ]
    },
    {
      "cell_type": "code",
      "metadata": {
        "id": "Y7KKEp7mMY8x",
        "colab_type": "code",
        "outputId": "fb9494f8-f999-4b31-b24e-18aa5a488158",
        "colab": {
          "base_uri": "https://localhost:8080/",
          "height": 502
        }
      },
      "source": [
        "from sklearn.feature_extraction.text import CountVectorizer\n",
        "\n",
        "#Most frequently occuring words\n",
        "def get_top_n_words(corpus, n=None):\n",
        "    vec = CountVectorizer().fit(corpus)\n",
        "    bag_of_words = vec.transform(corpus)\n",
        "    sum_words = bag_of_words.sum(axis=0) \n",
        "    words_freq = [(word, sum_words[0, idx]) for word, idx in      \n",
        "                   vec.vocabulary_.items()]\n",
        "    words_freq =sorted(words_freq, key = lambda x: x[1], \n",
        "                       reverse=True)\n",
        "    return words_freq[:n]\n",
        "#Convert most freq words to dataframe for plotting bar plot\n",
        "top_words = get_top_n_words(df['corpus'], n=10)\n",
        "top_df = pd.DataFrame(top_words)\n",
        "top_df.columns=[\"Word\", \"Freq\"]\n",
        "# #Barplot of most freq words\n",
        "import seaborn as sns\n",
        "sns.set(rc={'figure.figsize':(15,8)})\n",
        "g = sns.barplot(x=\"Freq\", y=\"Word\", data=top_df)"
      ],
      "execution_count": 0,
      "outputs": [
        {
          "output_type": "display_data",
          "data": {
            "image/png": "[encoded data removed]",
            "text/plain": [
              "<Figure size 1080x576 with 1 Axes>"
            ]
          },
          "metadata": {
            "tags": []
          }
        }
      ]
    },
    {
      "cell_type": "code",
      "metadata": {
        "id": "I5a0ZeywNQKY",
        "colab_type": "code",
        "outputId": "ecd40208-f689-4753-d69f-2b33e59a6ba6",
        "colab": {
          "base_uri": "https://localhost:8080/",
          "height": 502
        }
      },
      "source": [
        "#Most frequently occuring Bi-grams\n",
        "def get_top_n2_words(corpus, n=None):\n",
        "    vec1 = CountVectorizer(ngram_range=(5,5),  \n",
        "            max_features=2000).fit(corpus)\n",
        "    bag_of_words = vec1.transform(corpus)\n",
        "    sum_words = bag_of_words.sum(axis=0) \n",
        "    words_freq = [(word, sum_words[0, idx]) for word, idx in     \n",
        "                  vec1.vocabulary_.items()]\n",
        "    words_freq =sorted(words_freq, key = lambda x: x[1], \n",
        "                reverse=True)\n",
        "    return words_freq[:n]\n",
        "top2_words = get_top_n2_words(df['corpus'], n=10)\n",
        "top2_df = pd.DataFrame(top2_words)\n",
        "top2_df.columns=[\"Bi-gram\", \"Freq\"]\n",
        "#Barplot of most freq Bi-grams\n",
        "import seaborn as sns\n",
        "sns.set(rc={'figure.figsize':(13,8)})\n",
        "h=sns.barplot(x=\"Freq\", y=\"Bi-gram\", data=top2_df)"
      ],
      "execution_count": 0,
      "outputs": [
        {
          "output_type": "display_data",
          "data": {
            "image/png": "[encoded data removed]",
            "text/plain": [
              "<Figure size 936x576 with 1 Axes>"
            ]
          },
          "metadata": {
            "tags": []
          }
        }
      ]
    },
    {
      "cell_type": "markdown",
      "metadata": {
        "id": "o8LYWg8j5pTL",
        "colab_type": "text"
      },
      "source": [
        "## Create TF-IDF Vector using vector of wordcount"
      ]
    },
    {
      "cell_type": "code",
      "metadata": {
        "id": "yNR94TmjgVyQ",
        "colab_type": "code",
        "outputId": "72f23f1e-6b31-4f65-a3f9-e75a6e06c3f4",
        "colab": {
          "base_uri": "https://localhost:8080/",
          "height": 34
        }
      },
      "source": [
        "from sklearn.feature_extraction.text import TfidfTransformer\n",
        "tfidf_transformer=TfidfTransformer(smooth_idf=True,use_idf=True)\n",
        "tfidf_transformer.fit(X)"
      ],
      "execution_count": 0,
      "outputs": [
        {
          "output_type": "execute_result",
          "data": {
            "text/plain": [
              "TfidfTransformer(norm='l2', smooth_idf=True, sublinear_tf=False, use_idf=True)"
            ]
          },
          "metadata": {
            "tags": []
          },
          "execution_count": 179
        }
      ]
    },
    {
      "cell_type": "markdown",
      "metadata": {
        "id": "tanCo9woh9bu",
        "colab_type": "text"
      },
      "source": [
        "## Extracting Topic from Random Title"
      ]
    },
    {
      "cell_type": "code",
      "metadata": {
        "id": "WiyAWxem6ZSz",
        "colab_type": "code",
        "outputId": "761c6caf-fb14-4313-fe2d-ff1a9169d7c7",
        "colab": {
          "base_uri": "https://localhost:8080/",
          "height": 194
        }
      },
      "source": [
        "feature_names=cv.get_feature_names()\n",
        "b\n",
        "#Function for sorting tf_idf in descending order\n",
        "from scipy.sparse import coo_matrix\n",
        "def sort_coo(coo_matrix):\n",
        "    tuples = zip(coo_matrix.col, coo_matrix.data)\n",
        "    return sorted(tuples, key=lambda x: (x[1], x[0]), reverse=True)\n",
        " \n",
        "def extract_topn_from_vector(feature_names, sorted_items, topn=10):\n",
        "    \"\"\"get the feature names and tf-idf score of top n items\"\"\"\n",
        "    \n",
        "    #use only topn items from vector\n",
        "    sorted_items = sorted_items[:topn]\n",
        " \n",
        "    score_vals = []\n",
        "    feature_vals = []\n",
        "    \n",
        "    # word index and corresponding tf-idf score\n",
        "    for idx, score in sorted_items:\n",
        "        \n",
        "        #keep track of feature name and its corresponding score\n",
        "        score_vals.append(round(score, 3))\n",
        "        feature_vals.append(feature_names[idx])\n",
        " \n",
        "    #create a tuples of feature,score\n",
        "    #results = zip(feature_vals,score_vals)\n",
        "    results= {}\n",
        "    for idx in range(len(feature_vals)):\n",
        "        results[feature_vals[idx]]=score_vals[idx]\n",
        "    \n",
        "    return results\n",
        "#sort the tf-idf vectors by descending order of scores\n",
        "sorted_items=sort_coo(tf_idf_vector.tocoo())\n",
        "#extract only the top n; n here is 10\n",
        "keywords=extract_topn_from_vector(feature_names,sorted_items,5)\n",
        " \n",
        "# now print the results\n",
        "print(\"\\nAbstract:\")\n",
        "print(doc)\n",
        "print(\"\\nKeywords:\")\n",
        "for k in keywords:\n",
        "    print(k,keywords[k])"
      ],
      "execution_count": 0,
      "outputs": [
        {
          "output_type": "stream",
          "text": [
            "\n",
            "Abstract:\n",
            "Pengakuan Kepsek di Bandung Kerap Dihubungi 'Titip Siswa' Saat PPDB\n",
            "\n",
            "Keywords:\n",
            "ppdb 0.459\n",
            "kepsek 0.44\n",
            "titip 0.438\n",
            "kerap 0.397\n",
            "siswa 0.356\n"
          ],
          "name": "stdout"
        }
      ]
    },
    {
      "cell_type": "markdown",
      "metadata": {
        "id": "8O92hzQIiEig",
        "colab_type": "text"
      },
      "source": [
        "Credits:\n",
        "https://medium.com/analytics-vidhya/automated-keyword-extraction-from-articles-using-nlp-bfd864f41b34"
      ]
    }
  ]
}